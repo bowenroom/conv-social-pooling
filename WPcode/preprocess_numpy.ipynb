{
 "cells": [
  {
   "cell_type": "code",
   "execution_count": 3,
   "metadata": {
    "ExecuteTime": {
     "end_time": "2019-07-22T14:04:37.930306Z",
     "start_time": "2019-07-22T14:04:37.926024Z"
    }
   },
   "outputs": [],
   "source": [
    "from fastai.tabular import * \n",
    "import numpy as np"
   ]
  },
  {
   "cell_type": "code",
   "execution_count": 2,
   "metadata": {
    "ExecuteTime": {
     "end_time": "2019-07-22T13:49:07.830358Z",
     "start_time": "2019-07-22T13:49:07.695993Z"
    }
   },
   "outputs": [
    {
     "name": "stdout",
     "output_type": "stream",
     "text": [
      "/home/bowen/dllab/codeStar/conv-social-pooling\r\n"
     ]
    }
   ],
   "source": [
    "!pwd"
   ]
  },
  {
   "cell_type": "code",
   "execution_count": 5,
   "metadata": {
    "ExecuteTime": {
     "end_time": "2019-07-22T14:29:28.540516Z",
     "start_time": "2019-07-22T14:29:28.535552Z"
    }
   },
   "outputs": [],
   "source": [
    "folder = '/dllab/dataset'\n",
    "us101_1 = 'raw/us101-0750-0805.txt'\n",
    "us101_2 = 'raw/us101-0805-0820.txt'\n",
    "us101_3 = 'raw/us101-0820-0835.txt'\n",
    "i80_1 = 'raw/i80-1600-1615.txt'\n",
    "i80_2 = 'raw/i80-1700-1715.txt'\n",
    "i80_3 = 'raw/i80-1715-1730.txt'"
   ]
  },
  {
   "cell_type": "code",
   "execution_count": 16,
   "metadata": {
    "ExecuteTime": {
     "end_time": "2019-07-22T14:55:36.708783Z",
     "start_time": "2019-07-22T14:55:36.702915Z"
    }
   },
   "outputs": [
    {
     "data": {
      "text/plain": [
       "[PosixPath('/home/bowen/dllab/codeStar/conv-social-pooling/model.py'),\n",
       " PosixPath('/home/bowen/dllab/codeStar/conv-social-pooling/.idea'),\n",
       " PosixPath('/home/bowen/dllab/codeStar/conv-social-pooling/preprocess_data.m'),\n",
       " PosixPath('/home/bowen/dllab/codeStar/conv-social-pooling/.ipynb_checkpoints'),\n",
       " PosixPath('/home/bowen/dllab/codeStar/conv-social-pooling/安全行驶路线感知程序'),\n",
       " PosixPath('/home/bowen/dllab/codeStar/conv-social-pooling/dataset'),\n",
       " PosixPath('/home/bowen/dllab/codeStar/conv-social-pooling/LICENSE'),\n",
       " PosixPath('/home/bowen/dllab/codeStar/conv-social-pooling/README.md'),\n",
       " PosixPath('/home/bowen/dllab/codeStar/conv-social-pooling/utils.py'),\n",
       " PosixPath('/home/bowen/dllab/codeStar/conv-social-pooling/.git'),\n",
       " PosixPath('/home/bowen/dllab/codeStar/conv-social-pooling/conv'),\n",
       " PosixPath('/home/bowen/dllab/codeStar/conv-social-pooling/train.py'),\n",
       " PosixPath('/home/bowen/dllab/codeStar/conv-social-pooling/preprocess_numpy.ipynb'),\n",
       " PosixPath('/home/bowen/dllab/codeStar/conv-social-pooling/evaluate.py')]"
      ]
     },
     "execution_count": 16,
     "metadata": {},
     "output_type": "execute_result"
    }
   ],
   "source": [
    "path = Path('/home/bowen/dllab/codeStar/conv-social-pooling/')\n",
    "path.ls()\n"
   ]
  },
  {
   "cell_type": "code",
   "execution_count": 25,
   "metadata": {
    "ExecuteTime": {
     "end_time": "2019-07-22T15:01:07.114685Z",
     "start_time": "2019-07-22T15:01:07.111048Z"
    }
   },
   "outputs": [],
   "source": [
    "dataset = path/'dataset/'\n",
    "US101 = 'US-101-LosAngeles-CA/'"
   ]
  },
  {
   "cell_type": "code",
   "execution_count": 27,
   "metadata": {
    "ExecuteTime": {
     "end_time": "2019-07-22T15:01:18.670171Z",
     "start_time": "2019-07-22T15:01:18.663273Z"
    }
   },
   "outputs": [
    {
     "data": {
      "text/plain": [
       "[PosixPath('/home/bowen/dllab/codeStar/conv-social-pooling/dataset/Next_Generation_Simulation__NGSIM__Vehicle_Trajectories_and_Supporting_Data.csv'),\n",
       " PosixPath('/home/bowen/dllab/codeStar/conv-social-pooling/dataset/I-80-Emeryville-CA'),\n",
       " PosixPath('/home/bowen/dllab/codeStar/conv-social-pooling/dataset/US-101-LosAngeles-CA')]"
      ]
     },
     "execution_count": 27,
     "metadata": {},
     "output_type": "execute_result"
    }
   ],
   "source": [
    "dataset.ls()"
   ]
  }
 ],
 "metadata": {
  "kernelspec": {
   "display_name": "Python 3",
   "language": "python",
   "name": "python3"
  },
  "language_info": {
   "codemirror_mode": {
    "name": "ipython",
    "version": 3
   },
   "file_extension": ".py",
   "mimetype": "text/x-python",
   "name": "python",
   "nbconvert_exporter": "python",
   "pygments_lexer": "ipython3",
   "version": "3.6.7"
  }
 },
 "nbformat": 4,
 "nbformat_minor": 2
}
